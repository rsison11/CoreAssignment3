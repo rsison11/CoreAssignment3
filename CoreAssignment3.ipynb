{
  "nbformat": 4,
  "nbformat_minor": 0,
  "metadata": {
    "colab": {
      "provenance": [],
      "authorship_tag": "ABX9TyPgBpOYYKrlAWBrDGrjcViS",
      "include_colab_link": true
    },
    "kernelspec": {
      "name": "python3",
      "display_name": "Python 3"
    },
    "language_info": {
      "name": "python"
    }
  },
  "cells": [
    {
      "cell_type": "markdown",
      "metadata": {
        "id": "view-in-github",
        "colab_type": "text"
      },
      "source": [
        "<a href=\"https://colab.research.google.com/github/rsison11/CoreAssignment3/blob/main/CoreAssignment3.ipynb\" target=\"_parent\"><img src=\"https://colab.research.google.com/assets/colab-badge.svg\" alt=\"Open In Colab\"/></a>"
      ]
    },
    {
      "cell_type": "markdown",
      "source": [
        "# Project Title: Prediciton of Product Sales\n",
        "  - Author: Roneil Sison"
      ],
      "metadata": {
        "id": "R6l8P1coVrPw"
      }
    },
    {
      "cell_type": "markdown",
      "source": [
        "\n",
        "## Project Overview"
      ],
      "metadata": {
        "id": "VHSRiH8FWPh6"
      }
    },
    {
      "cell_type": "markdown",
      "source": [
        "\n",
        "## Load and Inspection Data"
      ],
      "metadata": {
        "id": "rFr51PRyW96W"
      }
    },
    {
      "cell_type": "markdown",
      "source": [
        "## Clean Data"
      ],
      "metadata": {
        "id": "5NMPo_2UXUdu"
      }
    },
    {
      "cell_type": "markdown",
      "source": [
        "## Exploration Data Analysis"
      ],
      "metadata": {
        "id": "Cyvu5LwtXW93"
      }
    },
    {
      "cell_type": "markdown",
      "source": [
        "## Feature Inspection"
      ],
      "metadata": {
        "id": "UYbpvNQTXbBy"
      }
    }
  ]
}